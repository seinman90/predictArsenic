{
 "cells": [
  {
   "cell_type": "code",
   "execution_count": 1,
   "metadata": {},
   "outputs": [],
   "source": [
    "import pandas as pd\n",
    "import socket\n",
    "import requests, json\n",
    "import numpy as np\n",
    "from datetime import datetime\n",
    "import os\n",
    "import urllib.request\n",
    "import time\n",
    "\n",
    "external_ip = urllib.request.urlopen('https://ident.me').read().decode('utf8')\n",
    "\n",
    "wd = '/home/beeb/Insync/sei2112@columbia.edu/Google Drive/Columbia SusDev PhD/Research/My work/predictArsenic/'\n",
    "os.chdir(wd)\n",
    "datInpath = 'data/intermediate/bamwsp/villages.csv'\n",
    "keyInpath = 'data/raw/googlePlaces/apiKey.txt'\n",
    "usageInpath = 'data/intermediate/googlePlaces/logging/usage.csv'\n",
    "outpath = 'data/intermediate/googlePlaces/{}.txt'\n",
    "errorsName = 'errors'\n",
    "resultsName = 'results'\n",
    "# url variable store url \n",
    "url = \"https://maps.googleapis.com/maps/api/geocode/json?address={query}&key={key}\"\n",
    "MAXUSAGEMONTHLY = 30000\n",
    "MAXUSAGEDAILY = 1333"
   ]
  },
  {
   "cell_type": "code",
   "execution_count": 2,
   "metadata": {},
   "outputs": [],
   "source": [
    "# set up API key\n",
    "api_key = pd.read_csv(keyInpath, header = None, squeeze = True)[0]"
   ]
  },
  {
   "cell_type": "code",
   "execution_count": 3,
   "metadata": {},
   "outputs": [],
   "source": [
    "def main():\n",
    "    queries = listQueries(datInpath)\n",
    "    results, errors = resultsErrors(outpath, resultsName, errorsName, queries)\n",
    "    usage, currentMonthlyUsage, currentDailyUsage = setUpLog(usageInpath, external_ip)\n",
    "    queryAPI(queries, results, errors, usage, currentMonthlyUsage, currentDailyUsage, MAXUSAGEMONTHLY, MAXUSAGEDAILY)"
   ]
  },
  {
   "cell_type": "markdown",
   "metadata": {},
   "source": [
    "# Read in BAMWSP data, create a list of queries to send to Google\n",
    "The data consist of a list of Bangladeshi villages, the number of wells in each one, and the proportion of those that are 'safe'. The geographics given are District, Upazila, Union, Mouza and Village. However, it is raw for Google to correctly geocode a Bangladeshi village, so instead we create a query at the Mouza level. This leaves us with ~22,600 unique obs."
   ]
  },
  {
   "cell_type": "code",
   "execution_count": 4,
   "metadata": {},
   "outputs": [],
   "source": [
    "# read in BAMWSP village data and create list of queries\n",
    "def listQueries(datInpath):\n",
    "    dat = pd.read_csv(datInpath )\n",
    "    dat['query'] = dat['Mouza'] + ',+' + dat['Union']+ ',+Bangladesh'\n",
    "    queries = dat['query'].unique()\n",
    "    return queries"
   ]
  },
  {
   "cell_type": "code",
   "execution_count": 5,
   "metadata": {},
   "outputs": [],
   "source": [
    "## PREPARE OUTPUT - successful and unsuccessful attempts at geocoding\n",
    "def resultsErrors(outpath, resultsName, errorsName, queries):\n",
    "    # if we already have results, load them and exclude already-run queries; else create a new empty list\n",
    "    if os.path.exists(outpath.format(resultsName)):\n",
    "        with open(outpath.format(resultsName)) as f:\n",
    "            results = json.load(f)\n",
    "        queries = [i for i in queries if i not in results.keys()]\n",
    "    else:\n",
    "        results = dict()\n",
    "\n",
    "\n",
    "    # do the same for errors\n",
    "    if os.path.exists(outpath.format(errorsName)):\n",
    "        with open(outpath.format(errorsName)) as f:\n",
    "            errors = json.load(f)\n",
    "        queries = [i for i in queries if i not in errors]   \n",
    "    else:\n",
    "        errors = []\n",
    "    return results, errors"
   ]
  },
  {
   "cell_type": "code",
   "execution_count": 6,
   "metadata": {},
   "outputs": [],
   "source": [
    "# this function exists because I have a dyamic IP address\n",
    "# GCP is limited by IP address, so need to update whenever my IP changes\n",
    "# then wait 5 mins for GCP to update\n",
    "def updateIP(external_ip, usage):\n",
    "    input('check GCP IP address is set to {} then hit enter'.format(external_ip))\n",
    "    usage.loc[usage.month == max(usage.month), 'ipv6'] = external_ip\n",
    "    usage.to_csv(usageInpath, index = False)\n",
    "    time.sleep(300)"
   ]
  },
  {
   "cell_type": "markdown",
   "metadata": {},
   "source": [
    "# Usage handling\n",
    "Google charges if you use their services too much. Therefore, it's important to limit your monthly usage. If you use more than 40k hits on the Geocode API you start getting charged 5USD per 1000 hits, so this bit of code makes sure that I'm using less than that."
   ]
  },
  {
   "cell_type": "code",
   "execution_count": 7,
   "metadata": {},
   "outputs": [],
   "source": [
    "def setUpLog(usageInpath, external_ip):\n",
    "\n",
    "    today = datetime.today()\n",
    "    if len(str(today.month)) == 1:\n",
    "        m = '0' + str(today.month)\n",
    "    month = int(str(today.year) + m)\n",
    "    \n",
    "\n",
    "    # check if we already have usage stats, if not create a new one\n",
    "    try:\n",
    "        usage = pd.read_csv(usageInpath)\n",
    "    except FileNotFoundError:\n",
    "        usage = pd.DataFrame(data = {'month' : [month], 'hits' : [0], 'ipv6': [external_ip]})\n",
    "        usage.to_csv(usageInpath)\n",
    "        updateIP(external_ip, usage)\n",
    "\n",
    "    mostRecentIP = usage.ipv6[usage.month == max(usage.month)].iloc[0]\n",
    "    if mostRecentIP != external_ip:\n",
    "        print(usage)\n",
    "        print(external_ip)\n",
    "        updateIP(external_ip, usage)\n",
    "\n",
    "    # check if we have any usage for the current month, if not add it in\n",
    "    if max(usage.month) < month:\n",
    "        newUsage = pd.DataFrame(data = {'month' : [month], 'hits' : [0], 'ipv6': [external_ip]})\n",
    "        usage = pd.concat([usage, newUsage])\n",
    "\n",
    "    currentMonthlyUsage = usage.hits[usage.month == month].iloc[0]\n",
    "    currentDailyUsage = 0\n",
    "    \n",
    "    return usage, currentMonthlyUsage, currentDailyUsage"
   ]
  },
  {
   "cell_type": "code",
   "execution_count": 8,
   "metadata": {},
   "outputs": [],
   "source": [
    "def queryAPI(queries, results, errors, usage, currentMonthlyUsage, currentDailyUsage, MAXUSAGEMONTHLY, MAXUSAGEDAILY):\n",
    "    month = datetime.today().month\n",
    "    for query in queries[(len(results) + len(errors)):len(queries)]:\n",
    "        # only query if we're not past max usage per day/month\n",
    "        if (currentMonthlyUsage < MAXUSAGEMONTHLY) and (currentDailyUsage < MAXUSAGEDAILY):\n",
    "\n",
    "            # keep track of how many iterations we've had\n",
    "            # print the current status\n",
    "            # save the current # of queries carried out\n",
    "            if currentMonthlyUsage % 100 == 0:\n",
    "                print('Iteration ' + str(currentDailyUsage) + ' at ' \n",
    "                          + str(datetime.now()) + ' for query ' + query)\n",
    "                usage = updateLog(usage, month, currentMonthlyUsage)\n",
    "            # start iterating through remaining \n",
    "            try:\n",
    "\n",
    "                # get method of requests module \n",
    "                # return response object \n",
    "                r = requests.get(url.format(query=query, key = api_key)) \n",
    "\n",
    "                # json method of response object convert \n",
    "                #  json format data into python format data \n",
    "                x = r.json()\n",
    "                if x['status'] == 'OK':\n",
    "                    x['query'] = query\n",
    "                    results[query] = x\n",
    "                elif x['status'] == 'OVER_QUERY_LIMIT':\n",
    "                    errors.append(query)\n",
    "                    break\n",
    "                elif x['status'] == '':\n",
    "                    updateIP(external_ip)\n",
    "                    errors.append(query)\n",
    "                else:\n",
    "                    errors.append(query)\n",
    "            except:\n",
    "                errors.append(query)\n",
    "\n",
    "            currentMonthlyUsage += 1\n",
    "            currentDailyUsage += 1\n",
    "    \n",
    "    usage = updateLog(usage, month, currentMonthlyUsage)\n",
    "\n",
    "    # save the new results\n",
    "    with open(outpath.format(resultsName), 'w') as f:\n",
    "        json.dump(results, f)"
   ]
  },
  {
   "cell_type": "code",
   "execution_count": 9,
   "metadata": {},
   "outputs": [],
   "source": [
    "# record the extra usage that took place today        \n",
    "def updateLog(usage, month, currentMonthlyUsage):\n",
    "    usage.loc[usage.month == month, 'hits'] = currentMonthlyUsage\n",
    "    usage.to_csv(usageInpath, index = False)\n",
    "    return usage"
   ]
  },
  {
   "cell_type": "code",
   "execution_count": 10,
   "metadata": {},
   "outputs": [
    {
     "name": "stderr",
     "output_type": "stream",
     "text": [
      "/home/beeb/anaconda3/lib/python3.8/site-packages/IPython/core/interactiveshell.py:3343: DtypeWarning: Columns (1,2,3,4,5,6) have mixed types.Specify dtype option on import or set low_memory=False.\n",
      "  exec(code_obj, self.user_global_ns, self.user_ns)\n"
     ]
    },
    {
     "name": "stdout",
     "output_type": "stream",
     "text": [
      "Iteration 0 at 2021-02-18 09:16:46.457481 for query Eklaspur,+Eklaspur,+Bangladesh\n"
     ]
    },
    {
     "name": "stderr",
     "output_type": "stream",
     "text": [
      "<ipython-input-9-7ff634ab31a6>:3: SettingWithCopyWarning: \n",
      "A value is trying to be set on a copy of a slice from a DataFrame\n",
      "\n",
      "See the caveats in the documentation: https://pandas.pydata.org/pandas-docs/stable/user_guide/indexing.html#returning-a-view-versus-a-copy\n",
      "  usage.hits[usage.month == month] = currentMonthlyUsage\n"
     ]
    },
    {
     "name": "stdout",
     "output_type": "stream",
     "text": [
      "Iteration 100 at 2021-02-18 09:16:55.596474 for query Hirapur,+Sonapur,+Bangladesh\n"
     ]
    },
    {
     "name": "stderr",
     "output_type": "stream",
     "text": [
      "<ipython-input-9-7ff634ab31a6>:3: SettingWithCopyWarning: \n",
      "A value is trying to be set on a copy of a slice from a DataFrame\n",
      "\n",
      "See the caveats in the documentation: https://pandas.pydata.org/pandas-docs/stable/user_guide/indexing.html#returning-a-view-versus-a-copy\n",
      "  usage.hits[usage.month == month] = currentMonthlyUsage\n"
     ]
    },
    {
     "name": "stdout",
     "output_type": "stream",
     "text": [
      "Iteration 200 at 2021-02-18 09:17:04.728498 for query Mojahidpur,+Begumgonj,+Bangladesh\n"
     ]
    },
    {
     "name": "stderr",
     "output_type": "stream",
     "text": [
      "<ipython-input-9-7ff634ab31a6>:3: SettingWithCopyWarning: \n",
      "A value is trying to be set on a copy of a slice from a DataFrame\n",
      "\n",
      "See the caveats in the documentation: https://pandas.pydata.org/pandas-docs/stable/user_guide/indexing.html#returning-a-view-versus-a-copy\n",
      "  usage.hits[usage.month == month] = currentMonthlyUsage\n"
     ]
    },
    {
     "name": "stdout",
     "output_type": "stream",
     "text": [
      "Iteration 300 at 2021-02-18 09:17:14.104168 for query Amanatpur,+Begumgonj,+Bangladesh\n"
     ]
    },
    {
     "name": "stderr",
     "output_type": "stream",
     "text": [
      "<ipython-input-9-7ff634ab31a6>:3: SettingWithCopyWarning: \n",
      "A value is trying to be set on a copy of a slice from a DataFrame\n",
      "\n",
      "See the caveats in the documentation: https://pandas.pydata.org/pandas-docs/stable/user_guide/indexing.html#returning-a-view-versus-a-copy\n",
      "  usage.hits[usage.month == month] = currentMonthlyUsage\n"
     ]
    },
    {
     "name": "stdout",
     "output_type": "stream",
     "text": [
      "Iteration 400 at 2021-02-18 09:17:22.926473 for query Targram,+Karpara,+Bangladesh\n"
     ]
    },
    {
     "name": "stderr",
     "output_type": "stream",
     "text": [
      "<ipython-input-9-7ff634ab31a6>:3: SettingWithCopyWarning: \n",
      "A value is trying to be set on a copy of a slice from a DataFrame\n",
      "\n",
      "See the caveats in the documentation: https://pandas.pydata.org/pandas-docs/stable/user_guide/indexing.html#returning-a-view-versus-a-copy\n",
      "  usage.hits[usage.month == month] = currentMonthlyUsage\n"
     ]
    },
    {
     "name": "stdout",
     "output_type": "stream",
     "text": [
      "Iteration 500 at 2021-02-18 09:17:31.758414 for query Hawlader Kandi,+Bandarkhola,+Bangladesh\n"
     ]
    },
    {
     "name": "stderr",
     "output_type": "stream",
     "text": [
      "<ipython-input-9-7ff634ab31a6>:3: SettingWithCopyWarning: \n",
      "A value is trying to be set on a copy of a slice from a DataFrame\n",
      "\n",
      "See the caveats in the documentation: https://pandas.pydata.org/pandas-docs/stable/user_guide/indexing.html#returning-a-view-versus-a-copy\n",
      "  usage.hits[usage.month == month] = currentMonthlyUsage\n"
     ]
    },
    {
     "name": "stdout",
     "output_type": "stream",
     "text": [
      "Iteration 600 at 2021-02-18 09:17:40.405420 for query Char Chatang,+Angaria,+Bangladesh\n"
     ]
    },
    {
     "name": "stderr",
     "output_type": "stream",
     "text": [
      "<ipython-input-9-7ff634ab31a6>:3: SettingWithCopyWarning: \n",
      "A value is trying to be set on a copy of a slice from a DataFrame\n",
      "\n",
      "See the caveats in the documentation: https://pandas.pydata.org/pandas-docs/stable/user_guide/indexing.html#returning-a-view-versus-a-copy\n",
      "  usage.hits[usage.month == month] = currentMonthlyUsage\n"
     ]
    },
    {
     "name": "stdout",
     "output_type": "stream",
     "text": [
      "Iteration 700 at 2021-02-18 09:17:48.856565 for query Badarpur,+Uttar Rupsha,+Bangladesh\n"
     ]
    },
    {
     "name": "stderr",
     "output_type": "stream",
     "text": [
      "<ipython-input-9-7ff634ab31a6>:3: SettingWithCopyWarning: \n",
      "A value is trying to be set on a copy of a slice from a DataFrame\n",
      "\n",
      "See the caveats in the documentation: https://pandas.pydata.org/pandas-docs/stable/user_guide/indexing.html#returning-a-view-versus-a-copy\n",
      "  usage.hits[usage.month == month] = currentMonthlyUsage\n"
     ]
    },
    {
     "name": "stdout",
     "output_type": "stream",
     "text": [
      "Iteration 800 at 2021-02-18 09:17:56.834832 for query Natsal,+Narayanpur,+Bangladesh\n"
     ]
    },
    {
     "name": "stderr",
     "output_type": "stream",
     "text": [
      "<ipython-input-9-7ff634ab31a6>:3: SettingWithCopyWarning: \n",
      "A value is trying to be set on a copy of a slice from a DataFrame\n",
      "\n",
      "See the caveats in the documentation: https://pandas.pydata.org/pandas-docs/stable/user_guide/indexing.html#returning-a-view-versus-a-copy\n",
      "  usage.hits[usage.month == month] = currentMonthlyUsage\n"
     ]
    },
    {
     "name": "stdout",
     "output_type": "stream",
     "text": [
      "Iteration 900 at 2021-02-18 09:18:05.025465 for query Gopchar,+Purba Gauripur (Jinglataly),+Bangladesh\n"
     ]
    },
    {
     "name": "stderr",
     "output_type": "stream",
     "text": [
      "<ipython-input-9-7ff634ab31a6>:3: SettingWithCopyWarning: \n",
      "A value is trying to be set on a copy of a slice from a DataFrame\n",
      "\n",
      "See the caveats in the documentation: https://pandas.pydata.org/pandas-docs/stable/user_guide/indexing.html#returning-a-view-versus-a-copy\n",
      "  usage.hits[usage.month == month] = currentMonthlyUsage\n"
     ]
    },
    {
     "name": "stdout",
     "output_type": "stream",
     "text": [
      "Iteration 1000 at 2021-02-18 09:18:12.742886 for query Ramdebpur,+Hasnabad,+Bangladesh\n"
     ]
    },
    {
     "name": "stderr",
     "output_type": "stream",
     "text": [
      "<ipython-input-9-7ff634ab31a6>:3: SettingWithCopyWarning: \n",
      "A value is trying to be set on a copy of a slice from a DataFrame\n",
      "\n",
      "See the caveats in the documentation: https://pandas.pydata.org/pandas-docs/stable/user_guide/indexing.html#returning-a-view-versus-a-copy\n",
      "  usage.hits[usage.month == month] = currentMonthlyUsage\n"
     ]
    },
    {
     "name": "stdout",
     "output_type": "stream",
     "text": [
      "Iteration 1100 at 2021-02-18 09:18:20.865334 for query Purba Batabaria,+Khila,+Bangladesh\n"
     ]
    },
    {
     "name": "stderr",
     "output_type": "stream",
     "text": [
      "<ipython-input-9-7ff634ab31a6>:3: SettingWithCopyWarning: \n",
      "A value is trying to be set on a copy of a slice from a DataFrame\n",
      "\n",
      "See the caveats in the documentation: https://pandas.pydata.org/pandas-docs/stable/user_guide/indexing.html#returning-a-view-versus-a-copy\n",
      "  usage.hits[usage.month == month] = currentMonthlyUsage\n"
     ]
    },
    {
     "name": "stdout",
     "output_type": "stream",
     "text": [
      "Iteration 1200 at 2021-02-18 09:18:29.345236 for query Paneyamolam,+Motigonj,+Bangladesh\n"
     ]
    },
    {
     "name": "stderr",
     "output_type": "stream",
     "text": [
      "<ipython-input-9-7ff634ab31a6>:3: SettingWithCopyWarning: \n",
      "A value is trying to be set on a copy of a slice from a DataFrame\n",
      "\n",
      "See the caveats in the documentation: https://pandas.pydata.org/pandas-docs/stable/user_guide/indexing.html#returning-a-view-versus-a-copy\n",
      "  usage.hits[usage.month == month] = currentMonthlyUsage\n"
     ]
    },
    {
     "name": "stdout",
     "output_type": "stream",
     "text": [
      "Iteration 1300 at 2021-02-18 09:18:37.685842 for query Bhabanipur,+Rajgonj,+Bangladesh\n"
     ]
    },
    {
     "name": "stderr",
     "output_type": "stream",
     "text": [
      "<ipython-input-9-7ff634ab31a6>:3: SettingWithCopyWarning: \n",
      "A value is trying to be set on a copy of a slice from a DataFrame\n",
      "\n",
      "See the caveats in the documentation: https://pandas.pydata.org/pandas-docs/stable/user_guide/indexing.html#returning-a-view-versus-a-copy\n",
      "  usage.hits[usage.month == month] = currentMonthlyUsage\n",
      "<ipython-input-9-7ff634ab31a6>:3: SettingWithCopyWarning: \n",
      "A value is trying to be set on a copy of a slice from a DataFrame\n",
      "\n",
      "See the caveats in the documentation: https://pandas.pydata.org/pandas-docs/stable/user_guide/indexing.html#returning-a-view-versus-a-copy\n",
      "  usage.hits[usage.month == month] = currentMonthlyUsage\n"
     ]
    }
   ],
   "source": [
    "if __name__ == \"__main__\":\n",
    "    main()"
   ]
  },
  {
   "cell_type": "code",
   "execution_count": null,
   "metadata": {},
   "outputs": [],
   "source": []
  }
 ],
 "metadata": {
  "kernelspec": {
   "display_name": "Python 3",
   "language": "python",
   "name": "python3"
  },
  "language_info": {
   "codemirror_mode": {
    "name": "ipython",
    "version": 3
   },
   "file_extension": ".py",
   "mimetype": "text/x-python",
   "name": "python",
   "nbconvert_exporter": "python",
   "pygments_lexer": "ipython3",
   "version": "3.8.3"
  }
 },
 "nbformat": 4,
 "nbformat_minor": 4
}
