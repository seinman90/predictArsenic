{
 "cells": [
  {
   "cell_type": "code",
   "execution_count": 1,
   "metadata": {},
   "outputs": [],
   "source": [
    "import pandas as pd\n",
    "import requests, json\n",
    "import numpy as np\n",
    "from datetime import datetime\n",
    "import os\n",
    "wd = '/home/beeb/Insync/sei2112@columbia.edu/Google Drive/Columbia SusDev PhD/Research/My work/predictArsenic/'\n",
    "os.chdir(wd)\n",
    "datInpath = 'data/raw/bamwsp/bamwsp_wSonargaon_avg.csv'\n",
    "keyInpath = 'data/raw/googlePlaces/apiKey.txt'\n",
    "usageInpath = 'data/intermediate/googlePlaces/usage.csv'\n",
    "outpath = 'data/raw/googlePlaces/{}.txt'\n",
    "errorsName = 'errors'\n",
    "resultsName = 'results'\n",
    "# url variable store url \n",
    "url = \"https://maps.googleapis.com/maps/api/geocode/json?address={query}&key={key}\"\n",
    "MAXUSAGEMONTHLY = 30000\n",
    "MAXUSAGEDAILY = 1333"
   ]
  },
  {
   "cell_type": "code",
   "execution_count": 2,
   "metadata": {},
   "outputs": [],
   "source": [
    "# set up API key\n",
    "api_key = pd.read_csv(keyInpath, header = None, squeeze = True)[0]"
   ]
  },
  {
   "cell_type": "markdown",
   "metadata": {},
   "source": [
    "# Read in BAMWSP data, create a list of queries to send to Google\n",
    "The data consist of a list of Bangladeshi villages, the number of wells in each one, and the proportion of those that are 'safe'. The geographics given are District, Upazila, Union, Mouza and Village. However, it is raw for Google to correctly geocode a Bangladeshi village, so instead we create a query at the Mouza level. This leaves us with ~22,600 unique obs."
   ]
  },
  {
   "cell_type": "code",
   "execution_count": 3,
   "metadata": {},
   "outputs": [],
   "source": [
    "# read in BAMWSP village data and create list of queries\n",
    "dat = pd.read_csv(datInpath)\n",
    "dat['query'] = dat['Mouza'] + ',+' + dat['Union']+ ',+Bangladesh'\n",
    "queries = dat['query'].unique()"
   ]
  },
  {
   "cell_type": "code",
   "execution_count": 4,
   "metadata": {},
   "outputs": [],
   "source": [
    "## PREPARE OUTPUT - successful and unsuccessful attempts at geocoding\n",
    "\n",
    "# if we already have results, load them and exclude already-run queries; else create a new empty list\n",
    "if os.path.exists(outpath.format(resultsName)):\n",
    "    with open(outpath.format(resultsName)) as f:\n",
    "        results = json.load(f)\n",
    "    queries = [i for i in queries if i not in results.keys()]\n",
    "else:\n",
    "    results = dict()\n",
    "\n",
    "    \n",
    "# do the same for errors\n",
    "if os.path.exists(outpath.format(errorsName)):\n",
    "    with open(outpath.format(errorsName)) as f:\n",
    "        errors = json.load(f)\n",
    "    queries = [i for i in queries if i not in errors]   \n",
    "else:\n",
    "    errors = []\n"
   ]
  },
  {
   "cell_type": "markdown",
   "metadata": {},
   "source": [
    "# Usage handling\n",
    "Google charges if you use their services too much. Therefore, it's important to limit your monthly usage. If you use more than 40k hits on the Geocode API you start getting charged 5USD per 1000 hits, so this bit of code makes sure that I'm using less than that."
   ]
  },
  {
   "cell_type": "code",
   "execution_count": 5,
   "metadata": {},
   "outputs": [],
   "source": [
    "today = datetime.today()\n",
    "if len(str(today.month)) == 1:\n",
    "    m = '0' + str(today.month)\n",
    "month = int(str(today.year) + m)\n",
    "\n",
    "# check if we already have usage stats, if not create a new one\n",
    "if os.path.exists(usageInpath):\n",
    "    usage = pd.read_csv(usageInpath)\n",
    "else:\n",
    "    usage = pd.DataFrame(data = {'month' : [month], 'hits' : [0]})\n",
    "\n",
    "# check if we have any usage for the current month, if not add it in\n",
    "if max(usage.month) < month:\n",
    "    newUsage = pd.DataFrame(data = {'month' : [month], 'hits' : [0]})\n",
    "    usage = pd.concat([usage, newUsage])\n",
    "    \n",
    "currentMonthlyUsage = usage.hits[usage.month == month].iloc[0]\n",
    "currentDailyUsage = 0"
   ]
  },
  {
   "cell_type": "code",
   "execution_count": 6,
   "metadata": {},
   "outputs": [
    {
     "name": "stdout",
     "output_type": "stream",
     "text": [
      "Iteration 1400 at 2021-01-22 05:27:44.891948 for query Paglirbil,+Haldia Palong,+Bangladesh\n",
      "Iteration 1500 at 2021-01-22 05:27:53.833498 for query PURATAN BANDURA,+Bandura,+Bangladesh\n",
      "Iteration 1600 at 2021-01-22 05:28:02.644145 for query SHIKARI PARA,+Shikaripara,+Bangladesh\n",
      "Iteration 1700 at 2021-01-22 05:28:10.857709 for query Jhalijhali,+Palashbari,+Bangladesh\n",
      "Iteration 1800 at 2021-01-22 05:28:18.897622 for query Mithapur,+Alfadanga,+Bangladesh\n",
      "Iteration 1900 at 2021-01-22 05:28:26.948921 for query Unknown (JI),+Chandra,+Bangladesh\n",
      "Iteration 2000 at 2021-01-22 05:28:34.431341 for query Vimpur,+Ghoshpur,+Bangladesh\n",
      "Iteration 2100 at 2021-01-22 05:28:42.780231 for query Sahasrail,+Shekhar,+Bangladesh\n",
      "Iteration 2200 at 2021-01-22 05:28:51.118047 for query Akain,+Kaijuri,+Bangladesh\n",
      "Iteration 2300 at 2021-01-22 05:28:59.825547 for query Sidhlajuri,+Dumain,+Bangladesh\n",
      "Iteration 2400 at 2021-01-22 05:29:07.582909 for query Majhkandi,+Raipur,+Bangladesh\n",
      "Iteration 2500 at 2021-01-22 05:29:16.485640 for query Chhota Lakshmandia,+Gatti,+Bangladesh\n",
      "Iteration 2600 at 2021-01-22 05:29:24.396637 for query Khalishadubi,+Ramkantapur,+Bangladesh\n"
     ]
    }
   ],
   "source": [
    "\n",
    "for query in queries[(len(results) + len(errors)):len(queries)]:\n",
    "    # only query if we're not past max usage per day/month\n",
    "    if (currentMonthlyUsage < MAXUSAGEMONTHLY) and (currentDailyUsage < MAXUSAGEDAILY):\n",
    "        \n",
    "        # keep track of how many iterations we've had\n",
    "        # print the current status\n",
    "        # save the current # of queries carried out\n",
    "        if currentMonthlyUsage % 100 == 0:\n",
    "            print('Iteration ' + str(currentDailyUsage) + ' at ' \n",
    "                      + str(datetime.now()) + ' for query ' + query)\n",
    "            usage.hits[usage.month == month] = currentMonthlyUsage\n",
    "            usage.to_csv(usageInpath, index = False)\n",
    "        # start iterating through remaining \n",
    "        try:\n",
    "\n",
    "            # get method of requests module \n",
    "            # return response object \n",
    "            r = requests.get(url.format(query=query, key = api_key)) \n",
    "\n",
    "            # json method of response object convert \n",
    "            #  json format data into python format data \n",
    "            x = r.json()\n",
    "            if x['status'] == 'OK':\n",
    "                x['query'] = query\n",
    "                results[query] = x\n",
    "            else:\n",
    "                errors.append(query)\n",
    "        except:\n",
    "            errors.append(query)\n",
    "\n",
    "        currentMonthlyUsage += 1\n",
    "        currentDailyUsage += 1\n",
    "# record the extra usage that took place today        \n",
    "usage.hits[usage.month == month] = currentMonthlyUsage\n",
    "usage.to_csv(usageInpath, index = False)\n",
    "\n",
    "# save the new results\n",
    "with open(outpath.format(resultsName), 'w') as f:\n",
    "    json.dump(results, f)"
   ]
  },
  {
   "cell_type": "code",
   "execution_count": 9,
   "metadata": {},
   "outputs": [],
   "source": [
    "usage.hits[usage.month == month] = currentMonthlyUsage\n",
    "usage.to_csv(usageInpath, index = False)"
   ]
  },
  {
   "cell_type": "code",
   "execution_count": 10,
   "metadata": {},
   "outputs": [
    {
     "data": {
      "text/plain": [
       "1388"
      ]
     },
     "execution_count": 10,
     "metadata": {},
     "output_type": "execute_result"
    }
   ],
   "source": [
    "len(errors)"
   ]
  },
  {
   "cell_type": "code",
   "execution_count": 11,
   "metadata": {},
   "outputs": [
    {
     "data": {
      "text/plain": [
       "2559"
      ]
     },
     "execution_count": 11,
     "metadata": {},
     "output_type": "execute_result"
    }
   ],
   "source": [
    "len(results)"
   ]
  },
  {
   "cell_type": "code",
   "execution_count": null,
   "metadata": {},
   "outputs": [],
   "source": []
  }
 ],
 "metadata": {
  "kernelspec": {
   "display_name": "Python 3",
   "language": "python",
   "name": "python3"
  },
  "language_info": {
   "codemirror_mode": {
    "name": "ipython",
    "version": 3
   },
   "file_extension": ".py",
   "mimetype": "text/x-python",
   "name": "python",
   "nbconvert_exporter": "python",
   "pygments_lexer": "ipython3",
   "version": "3.8.3"
  }
 },
 "nbformat": 4,
 "nbformat_minor": 4
}
