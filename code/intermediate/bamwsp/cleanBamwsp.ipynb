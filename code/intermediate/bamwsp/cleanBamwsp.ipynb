{
 "cells": [
  {
   "cell_type": "markdown",
   "metadata": {},
   "source": [
    "This file takes in the raw BAMWSP data and outputs it in a usable format.\n",
    "\n",
    "BAMWSP data is a large sample of wells throughout Bangladesh collected in the years up to 2007. We have the village ID, the depth of the well, and its As content.\n",
    "The raw BAMWSP data do not have lat/lons attached to the wells, or to the village IDs. We have another dataset which gives further information about the villages, which attaches via the village ID. This information includes the county ('mouza') name. We take by-mouza averages as this is the highest granularity we can geocode."
   ]
  },
  {
   "cell_type": "code",
   "execution_count": 4,
   "metadata": {},
   "outputs": [],
   "source": [
    "import pandas as pd\n",
    "import numpy as np\n",
    "import matplotlib.pyplot as plt\n",
    "import os"
   ]
  },
  {
   "cell_type": "code",
   "execution_count": 29,
   "metadata": {},
   "outputs": [],
   "source": [
    "wd = '/home/beeb/Insync/sei2112@columbia.edu/Google Drive/Columbia SusDev PhD/Research/My work/predictArsenic/'\n",
    "os.chdir(wd)\n",
    "datInpath = 'data/raw/bamwsp/'\n",
    "wellsPath = datInpath + 'AR_SAMPLESunJun10-14-31-35MDT2007.txt'\n",
    "villagePath = datInpath + 'villageIDs_Yan.csv'\n",
    "outpath = 'data/intermediate/bamwsp/villages.csv'"
   ]
  },
  {
   "cell_type": "code",
   "execution_count": 6,
   "metadata": {},
   "outputs": [],
   "source": [
    "wells = pd.read_csv(wellsPath, header = None, sep = '\\t',\n",
    "                    usecols = [1, 2, 3, 5], dtype = {'villageID': str},\n",
    "                    names = ['villageID',  'wellDepth', 'wellAs', 'sampleOrigin'],\n",
    "                   low_memory = False)"
   ]
  },
  {
   "cell_type": "code",
   "execution_count": 7,
   "metadata": {},
   "outputs": [],
   "source": [
    "village = pd.read_csv(villagePath, dtype = {'Vid': str})"
   ]
  },
  {
   "cell_type": "markdown",
   "metadata": {},
   "source": [
    "## TASKS:\n",
    "1. Pre-processing and assertions:\n",
    "    - BAMWSP data:\n",
    "        - convert data to correct dtypes\n",
    "        - check all vids from vilageID present in bamwsp and vice versa\n",
    "        - check all depths in sensible range\n",
    "        - check all AS values in sensible range\n",
    "    - Village data:\n",
    "        - Drop obs with insufficient data\n",
    "        - Get unique IDs\n",
    "        - sense checks\n",
    "2. Attach bamwsp data to villageIDs\n",
    "3. Summaries\n",
    "4. Check Sonargaon data?\n",
    "    - If not present, read in, assert and concat\n",
    "5. Sense checks\n",
    "6. Write out"
   ]
  },
  {
   "cell_type": "markdown",
   "metadata": {},
   "source": [
    "## Pre-processing and assertions"
   ]
  },
  {
   "cell_type": "markdown",
   "metadata": {},
   "source": [
    "### BAMWSP data"
   ]
  },
  {
   "cell_type": "code",
   "execution_count": 8,
   "metadata": {},
   "outputs": [],
   "source": [
    "# convert these strings to numeric and check this does not delete too much data\n",
    "for colName in ['As', 'Depth']:\n",
    "    wells['well{}Numeric'.format(colName)] = pd.to_numeric(wells['well{}'.format(colName)], errors = 'coerce')\n",
    "    assert np.mean(wells['well{}Numeric'.format(colName)].isnull()) < 0.01"
   ]
  },
  {
   "cell_type": "code",
   "execution_count": 9,
   "metadata": {},
   "outputs": [
    {
     "data": {
      "image/png": "[encoded data removed]",
      "text/plain": [
       "<Figure size 432x288 with 1 Axes>"
      ]
     },
     "metadata": {
      "needs_background": "light"
     },
     "output_type": "display_data"
    }
   ],
   "source": [
    "# check that the numeric values of wellAs and wellDepth are sensible\n",
    "plt.scatter(wells.wellDepthNumeric, wells.wellAsNumeric, alpha = 0.2)\n",
    "plt.xlabel('well depth')\n",
    "plt.ylabel('well arsenic')\n",
    "plt.show()"
   ]
  },
  {
   "cell_type": "code",
   "execution_count": 10,
   "metadata": {},
   "outputs": [],
   "source": [
    "# more sense checks\n",
    "for colName in ['As', 'Depth']:\n",
    "    assert np.mean(wells['well{}Numeric'.format(colName)] < 0) < 0.01\n",
    "    assert np.mean(wells['well{}Numeric'.format(colName)] > 1000) < 0.01\n"
   ]
  },
  {
   "cell_type": "markdown",
   "metadata": {},
   "source": [
    "### Village data"
   ]
  },
  {
   "cell_type": "code",
   "execution_count": 11,
   "metadata": {},
   "outputs": [],
   "source": [
    "# for any village with an unknown or null mouza, we substitute the village name.\n",
    "# This may not geocode correctly, but it definitely won't geocode with an unknown \n",
    "# mouza, so better than nothing.\n",
    "village.loc[pd.isnull(village.Mouza), 'Mouza'] = village.loc[pd.isnull(village.Mouza), 'Village']\n",
    "village.loc[village.Mouza.str.contains('Unknown', case = False) == True, 'Mouza'] = \\\n",
    "    village.loc[village.Mouza.str.contains('Unknown', case = False) == True, 'Village']\n",
    "\n",
    "# drop any obs where both village and mouza are null\n",
    "village = village[~pd.isnull(village.Mouza)]"
   ]
  },
  {
   "cell_type": "code",
   "execution_count": 12,
   "metadata": {},
   "outputs": [],
   "source": [
    "# we drop the village column, as we can't geocode with this much granularity\n",
    "village = village.drop('Village', axis = 1)"
   ]
  },
  {
   "cell_type": "code",
   "execution_count": 13,
   "metadata": {},
   "outputs": [],
   "source": [
    "# keep only one line per mouza\n",
    "village.drop_duplicates(inplace = True)\n",
    "# make sure that the village IDs are unique\n",
    "assert village.Vid.value_counts().max() == 1"
   ]
  },
  {
   "cell_type": "markdown",
   "metadata": {},
   "source": [
    "## Join data"
   ]
  },
  {
   "cell_type": "code",
   "execution_count": 14,
   "metadata": {},
   "outputs": [],
   "source": [
    "joined = village.merge(wells, left_on = 'Vid', right_on = 'villageID', how = 'outer', validate = '1:m')"
   ]
  },
  {
   "cell_type": "code",
   "execution_count": 17,
   "metadata": {},
   "outputs": [],
   "source": [
    "unmatchedWells = pd.Series(wells.villageID[~wells.villageID.isin(village.Vid)].unique())"
   ]
  },
  {
   "cell_type": "markdown",
   "metadata": {},
   "source": [
    "## Outsheet"
   ]
  },
  {
   "cell_type": "code",
   "execution_count": 34,
   "metadata": {},
   "outputs": [],
   "source": [
    "joined[['villageID', 'District', 'Upazila', 'Union', 'Mouza', 'wellAs']].to_csv(outpath, header = True, index = False)"
   ]
  },
  {
   "cell_type": "code",
   "execution_count": null,
   "metadata": {},
   "outputs": [],
   "source": []
  }
 ],
 "metadata": {
  "kernelspec": {
   "display_name": "Python 3",
   "language": "python",
   "name": "python3"
  },
  "language_info": {
   "codemirror_mode": {
    "name": "ipython",
    "version": 3
   },
   "file_extension": ".py",
   "mimetype": "text/x-python",
   "name": "python",
   "nbconvert_exporter": "python",
   "pygments_lexer": "ipython3",
   "version": "3.8.3"
  }
 },
 "nbformat": 4,
 "nbformat_minor": 4
}
