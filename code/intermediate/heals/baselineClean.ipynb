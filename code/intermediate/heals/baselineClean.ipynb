{
 "cells": [
  {
   "cell_type": "code",
   "execution_count": 1,
   "metadata": {},
   "outputs": [],
   "source": [
    "import pandas as pd\n",
    "import requests, json\n",
    "import numpy as np\n",
    "from datetime import datetime\n",
    "import os\n",
    "wd = '/home/beeb/Insync/sei2112@columbia.edu/Google Drive/Columbia SusDev PhD/Research/My work/predictArsenic/'\n",
    "os.chdir(wd)"
   ]
  },
  {
   "cell_type": "code",
   "execution_count": 7,
   "metadata": {},
   "outputs": [],
   "source": [
    "inpath = 'data/raw/heals/{}'\n",
    "genderpath = 'AllGender.xlsx'\n",
    "agepath = 'Age.xlsx'\n",
    "individualspath = 'Baseline_HEALS_ID_wellAs.xlsx'\n",
    "wellspath = 'original_5970wells.tsv'\n",
    "outpath = 'data/intermediate/heals/baseline.csv'"
   ]
  },
  {
   "cell_type": "code",
   "execution_count": 3,
   "metadata": {},
   "outputs": [],
   "source": [
    "gender = pd.read_excel(inpath.format(genderpath), dtype = {'SubjectID': str})\n",
    "individuals = pd.read_excel(inpath.format(individualspath), dtype = {'SubjectID': str})\n",
    "wells = pd.read_csv(inpath.format(wellspath), sep = '\\t', usecols = [0, 5, 6])"
   ]
  },
  {
   "cell_type": "code",
   "execution_count": 4,
   "metadata": {},
   "outputs": [],
   "source": [
    "baseline = pd.merge(gender, individuals, on = 'SubjectID', how = 'outer', validate = '1:1')\n",
    "baseline = pd.merge(baseline, wells, left_on = 'WellNum', right_on = 'Well ID', how = 'left', validate = 'm:1', indicator = True)\n",
    "assert len(gender) == len(baseline)\n",
    "assert len(individuals == len(baseline))"
   ]
  },
  {
   "cell_type": "code",
   "execution_count": 5,
   "metadata": {},
   "outputs": [],
   "source": [
    "# clean up gender variable so we know which is which\n",
    "baseline['Female'] = baseline['Sex'] == 2"
   ]
  },
  {
   "cell_type": "code",
   "execution_count": 8,
   "metadata": {},
   "outputs": [],
   "source": [
    "#outsheet\n",
    "baseline[['SubjectID', 'Age', 'Female', 'WellNum', 'WArsenic', 'Latitude', 'Longitude']].to_csv(outpath)"
   ]
  }
 ],
 "metadata": {
  "kernelspec": {
   "display_name": "Python 3",
   "language": "python",
   "name": "python3"
  },
  "language_info": {
   "codemirror_mode": {
    "name": "ipython",
    "version": 3
   },
   "file_extension": ".py",
   "mimetype": "text/x-python",
   "name": "python",
   "nbconvert_exporter": "python",
   "pygments_lexer": "ipython3",
   "version": "3.8.3"
  }
 },
 "nbformat": 4,
 "nbformat_minor": 4
}
