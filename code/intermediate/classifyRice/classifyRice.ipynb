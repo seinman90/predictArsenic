{
 "cells": [
  {
   "cell_type": "code",
   "execution_count": 2,
   "metadata": {},
   "outputs": [],
   "source": [
    "import geopandas as gpd\n",
    "import os\n",
    "import matplotlib.pyplot as plt\n",
    "import ee\n",
    "import pandas as pd\n",
    "ee.Initialize()"
   ]
  },
  {
   "cell_type": "code",
   "execution_count": 3,
   "metadata": {},
   "outputs": [],
   "source": [
    "# set up satellite colleciton of interest\n",
    "satellite = 'LANDSAT/LC08/C01/T1_SR'\n",
    "\n",
    "startYear = 2000\n",
    "endYear = 2020\n",
    "\n",
    "# set up dates\n",
    "startDate = '01-01-{}'.format(str(startYear))\n",
    "endDate = '31-12-{}'.format(str(endYear))"
   ]
  },
  {
   "cell_type": "code",
   "execution_count": 4,
   "metadata": {},
   "outputs": [],
   "source": [
    "# import shape file for Bangladesh\n",
    "wd = '/home/beeb/Insync/sei2112@columbia.edu/Google Drive/Columbia SusDev PhD/Research/My work/predictArsenic/'\n",
    "os.chdir(wd)\n",
    "# set up band names appropriate for LANDSAT 8\n",
    "nir = 'B4'\n",
    "red = 'B3'"
   ]
  },
  {
   "cell_type": "code",
   "execution_count": 5,
   "metadata": {},
   "outputs": [],
   "source": [
    "countrypath = 'data/raw/shapefiles/bgd_admbnda_adm{level}_bbs_20180410/bgd_admbnda_adm{level}_bbs_20180410.shp'\n",
    "bgl = gpd.read_file(countrypath.format(level = '0'))\n",
    "# go from shapefile to a format that GEE can parse\n",
    "poly = [i.__geo_interface__ for i in bgl.geometry][0]"
   ]
  },
  {
   "cell_type": "code",
   "execution_count": 6,
   "metadata": {},
   "outputs": [],
   "source": [
    "# function to mask out cloudy pixels\n",
    "def fixCloud(image):\n",
    "    cloudScore = ee.Algorithms.Landsat.simpleCloudScore(image)\n",
    "    mask = cloudScore.select(['cloud']).lte(20);\n",
    "    masked = image.updateMask(mask);\n",
    "    return masked\n",
    "\n",
    "# calculate NDVI\n",
    "def addNDVI(image):\n",
    "    ndvi = image.normalizedDifference([nir, red]).rename('NDVI')\n",
    "    return image.addBands(ndvi)\n",
    "\n",
    "wholeCollection = ee.ImageCollection(satellite).filterBounds(poly).filterDate(startDate, endDate).map(fixCloud).map(addNDVI)\n",
    "\n"
   ]
  },
  {
   "cell_type": "code",
   "execution_count": 7,
   "metadata": {},
   "outputs": [],
   "source": [
    "# this function gets the median NDVI for a given month\n",
    "def getMedianForMonth(month, collection = wholeCollection):\n",
    "    print('{year}-{month}-01'.format(month = str(month), year  = startYear))\n",
    "    # earliest example of that month within the timeframe\n",
    "    startMonth = pd.to_datetime('{year}-{month}-01'.format(month = str(month), year  = startYear))\n",
    "    # end one month later\n",
    "    endMonth = startMonth + pd.DateOffset(months  = 1)\n",
    "    \n",
    "    # create a featurecollection of the month for every year\n",
    "    start = [startMonth + pd.DateOffset(years = i) for i in range(endYear - startYear)]\n",
    "    end = [endMonth + pd.DateOffset(years = i) for i in range(endYear - startYear)]\n",
    "    \n",
    "    # initialise the collection\n",
    "    monthCollection = collection.filterDate(start[0], end[0])\n",
    "\n",
    "    for i in range(1, len(start)):\n",
    "        monthCollection = monthCollection.merge(collection.filterDate(start[i], end[i]))\n",
    "    \n",
    "    \n",
    "    # take the median of NDVI and return\n",
    "    ndviMedian = monthCollection.select('NDVI').reduce(ee.Reducer.median())\n",
    "    return ndviMedian"
   ]
  },
  {
   "cell_type": "code",
   "execution_count": 8,
   "metadata": {},
   "outputs": [],
   "source": [
    "# returns a collection of the median NDVI for each month\n",
    "def createMonthlyCollection(collection):\n",
    "    overallCollection = getMedianForMonth(1, collection)\n",
    "    for i in range(2, 13):\n",
    "        overallCollection = overallCollection.addBands(getMedianForMonth(i, collection))\n",
    "\n",
    "    return overallCollection"
   ]
  },
  {
   "cell_type": "code",
   "execution_count": 9,
   "metadata": {},
   "outputs": [
    {
     "name": "stdout",
     "output_type": "stream",
     "text": [
      "2000-1-01\n",
      "2000-2-01\n",
      "2000-3-01\n",
      "2000-4-01\n",
      "2000-5-01\n",
      "2000-6-01\n",
      "2000-7-01\n",
      "2000-8-01\n",
      "2000-9-01\n",
      "2000-10-01\n",
      "2000-11-01\n",
      "2000-12-01\n"
     ]
    }
   ],
   "source": [
    "finalCollection = createMonthlyCollection(wholeCollection)"
   ]
  },
  {
   "cell_type": "code",
   "execution_count": 10,
   "metadata": {},
   "outputs": [
    {
     "ename": "NameError",
     "evalue": "name 'Map' is not defined",
     "output_type": "error",
     "traceback": [
      "\u001b[0;31m---------------------------------------------------------------------------\u001b[0m",
      "\u001b[0;31mNameError\u001b[0m                                 Traceback (most recent call last)",
      "\u001b[0;32m<ipython-input-10-bc0260ca64de>\u001b[0m in \u001b[0;36m<module>\u001b[0;34m\u001b[0m\n\u001b[0;32m----> 1\u001b[0;31m \u001b[0mMap\u001b[0m\u001b[0;34m.\u001b[0m\u001b[0maddLayer\u001b[0m\u001b[0;34m(\u001b[0m\u001b[0mfinalCollection\u001b[0m\u001b[0;34m)\u001b[0m\u001b[0;34m\u001b[0m\u001b[0;34m\u001b[0m\u001b[0m\n\u001b[0m",
      "\u001b[0;31mNameError\u001b[0m: name 'Map' is not defined"
     ]
    }
   ],
   "source": []
  },
  {
   "cell_type": "code",
   "execution_count": null,
   "metadata": {},
   "outputs": [],
   "source": []
  }
 ],
 "metadata": {
  "kernelspec": {
   "display_name": "Python 3",
   "language": "python",
   "name": "python3"
  },
  "language_info": {
   "codemirror_mode": {
    "name": "ipython",
    "version": 3
   },
   "file_extension": ".py",
   "mimetype": "text/x-python",
   "name": "python",
   "nbconvert_exporter": "python",
   "pygments_lexer": "ipython3",
   "version": "3.8.3"
  }
 },
 "nbformat": 4,
 "nbformat_minor": 4
}
