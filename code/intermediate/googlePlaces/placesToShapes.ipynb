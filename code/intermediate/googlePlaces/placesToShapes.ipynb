{
 "cells": [
  {
   "cell_type": "code",
   "execution_count": 2,
   "metadata": {},
   "outputs": [],
   "source": [
    "import pandas as pd\n",
    "import os\n",
    "import geopandas as gpd\n",
    "import geoplot as gplt\n",
    "import scipy as sp\n",
    "from scipy.spatial import Voronoi, voronoi_plot_2d\n",
    "import matplotlib.pyplot as plt\n",
    "import numpy as np\n",
    "from shapely.geometry import Polygon\n",
    "import sys"
   ]
  },
  {
   "cell_type": "code",
   "execution_count": null,
   "metadata": {},
   "outputs": [],
   "source": [
    "wd = '/home/beeb/Insync/sei2112@columbia.edu/Google Drive/Columbia SusDev PhD/Research/My work/predictArsenic/'\n",
    "placesPath = 'data/raw/googlePlaces/results.txt'\n",
    "shapePath = 'data/raw/shapefiles/bgd_admbnda_adm{}_bbs_20180410/'\n",
    "outPath = 'data/intermediate/placesToShapes/results.shp'\n",
    "figPath = 'output/intermediate/placesToShapes/plot.png'\n",
    "os.chdir(wd)"
   ]
  },
  {
   "cell_type": "code",
   "execution_count": null,
   "metadata": {},
   "outputs": [],
   "source": [
    "# read in data\n",
    "dat = pd.read_json(placesPath)"
   ]
  },
  {
   "cell_type": "code",
   "execution_count": null,
   "metadata": {},
   "outputs": [],
   "source": [
    "# extract latitudes, longitudes and names\n",
    "lats = [result[0]['geometry']['location']['lat'] for result in dat['results']]\n",
    "lons = [result[0]['geometry']['location']['lng'] for result in dat['results']]\n",
    "names = [result[0]['name'] for result in dat['results']]\n",
    "formatted_address = [result[0]['formatted_address'] for result in dat['results']]"
   ]
  },
  {
   "cell_type": "code",
   "execution_count": null,
   "metadata": {},
   "outputs": [],
   "source": [
    "# put these into a geodataframe\n",
    "df = pd.DataFrame(data = {'longitude': lons, 'latitude': lats},#, 'formatted_address': formatted_address}, \n",
    "                  index = names).drop_duplicates()\n",
    "#gdf = gpd.GeoDataFrame(df, geometry = gpd.points_from_xy(df.longitude, df.latitude))\n",
    "#gdf.head()"
   ]
  },
  {
   "cell_type": "code",
   "execution_count": null,
   "metadata": {},
   "outputs": [],
   "source": [
    "# read in the Bangladesh shapefile"
   ]
  },
  {
   "cell_type": "code",
   "execution_count": null,
   "metadata": {},
   "outputs": [],
   "source": [
    "shp = gpd.read_file(shapePath.format(0))"
   ]
  },
  {
   "cell_type": "code",
   "execution_count": null,
   "metadata": {},
   "outputs": [],
   "source": [
    "shp.plot()"
   ]
  },
  {
   "cell_type": "code",
   "execution_count": null,
   "metadata": {},
   "outputs": [],
   "source": [
    "# filter out any entries in our gdf which are outside Bangladesh, check \n",
    "# this doesn't involve dropping > 10% of obs\n",
    "beginPointsN = df.shape[0]\n",
    "df = df[df.latitude <= shp.bounds.loc[0, 'maxy']]\n",
    "df = df[df.latitude >= shp.bounds.loc[0, 'miny']]\n",
    "df = df[df.longitude < shp.bounds.loc[0, 'maxx']]\n",
    "df = df[df.longitude >= shp.bounds.loc[0, 'minx']]\n",
    "endPointsN = df.shape[0]\n",
    "assert endPointsN > 0.9 * beginPointsN"
   ]
  },
  {
   "cell_type": "code",
   "execution_count": null,
   "metadata": {},
   "outputs": [],
   "source": [
    "df.head()"
   ]
  },
  {
   "cell_type": "code",
   "execution_count": null,
   "metadata": {},
   "outputs": [],
   "source": [
    "#CODE FROM THE INTERWEBS \n",
    "# this code creates a voronoi diagram within a bounding box\n",
    "#https://stackoverflow.com/questions/28665491/getting-a-bounded-polygon-coordinates-from-voronoi-cells\n",
    "\n",
    "eps = sys.float_info.epsilon\n",
    "\n",
    "bounding_box = shp.bounds.loc[0, ['minx', 'maxx', 'miny', 'maxy']] # [x_min, x_max, y_min, y_max]\n",
    "\n",
    "def in_box(towers, bounding_box):\n",
    "    return np.logical_and(np.logical_and(bounding_box[0] <= towers[:, 0],\n",
    "                                         towers[:, 0] <= bounding_box[1]),\n",
    "                          np.logical_and(bounding_box[2] <= towers[:, 1],\n",
    "                                         towers[:, 1] <= bounding_box[3]))\n",
    "\n",
    "\n",
    "def voronoi(towers, bounding_box):\n",
    "    # Select towers inside the bounding box\n",
    "    i = in_box(towers, bounding_box)\n",
    "    # Mirror points\n",
    "    points_center = towers[i, :]\n",
    "    points_left = np.copy(points_center)\n",
    "    points_left[:, 0] = bounding_box[0] - (points_left[:, 0] - bounding_box[0])\n",
    "    points_right = np.copy(points_center)\n",
    "    points_right[:, 0] = bounding_box[1] + (bounding_box[1] - points_right[:, 0])\n",
    "    points_down = np.copy(points_center)\n",
    "    points_down[:, 1] = bounding_box[2] - (points_down[:, 1] - bounding_box[2])\n",
    "    points_up = np.copy(points_center)\n",
    "    points_up[:, 1] = bounding_box[3] + (bounding_box[3] - points_up[:, 1])\n",
    "    points = np.append(points_center,\n",
    "                       np.append(np.append(points_left,\n",
    "                                           points_right,\n",
    "                                           axis=0),\n",
    "                                 np.append(points_down,\n",
    "                                           points_up,\n",
    "                                           axis=0),\n",
    "                                 axis=0),\n",
    "                       axis=0)\n",
    "    # Compute Voronoi\n",
    "    vor = sp.spatial.Voronoi(points)\n",
    "    # Filter regions\n",
    "    regions = []\n",
    "    for region in vor.regions:\n",
    "        flag = True\n",
    "        for index in region:\n",
    "            if index == -1:\n",
    "                flag = False\n",
    "                break\n",
    "            else:\n",
    "                x = vor.vertices[index, 0]\n",
    "                y = vor.vertices[index, 1]\n",
    "                if not(bounding_box[0] - eps <= x and x <= bounding_box[1] + eps and\n",
    "                       bounding_box[2] - eps <= y and y <= bounding_box[3] + eps):\n",
    "                    flag = False\n",
    "                    break\n",
    "        if region != [] and flag:\n",
    "            regions.append(region)\n",
    "    vor.filtered_points = points_center\n",
    "    vor.filtered_regions = regions\n",
    "    return vor\n"
   ]
  },
  {
   "cell_type": "code",
   "execution_count": null,
   "metadata": {},
   "outputs": [],
   "source": [
    "# make a voronoi diagram and plot it\n",
    "points = np.array([[df.longitude.iloc[i], df.latitude.iloc[i]] for i in range(df.shape[0])])\n",
    "vor = voronoi(points, bounding_box)\n",
    "fig = voronoi_plot_2d(vor)\n",
    "plt.show()"
   ]
  },
  {
   "cell_type": "code",
   "execution_count": null,
   "metadata": {},
   "outputs": [],
   "source": [
    "# wild guess at how to do this\n",
    "regions = [region for region in vor.filtered_regions if len(region) > 0]\n",
    "\n",
    "# function for turning the voronoi objects into polygons\n",
    "def getPoly(pointIndices):\n",
    "    \n",
    "    # get the vertices for this polygon\n",
    "    poly = vor.vertices[pointIndices,:]\n",
    "    \n",
    "    # turn this into a polygon object\n",
    "    poly = Polygon(poly)\n",
    "    \n",
    "    # check the polygon is valid (i.e. it does not cross itself)\n",
    "    if not poly.is_valid:\n",
    "        print('Invalid')\n",
    "        \n",
    "    # give it the CRS that Google uses\n",
    "    poly.crs = 'EPSG:4326'\n",
    "    return(poly)\n",
    "\n",
    "polygons = [getPoly(pointIndex) for pointIndex in regions]# if len(pointIndex) > 0]\n",
    "#df['vor'] = vor.point_region"
   ]
  },
  {
   "cell_type": "code",
   "execution_count": null,
   "metadata": {},
   "outputs": [],
   "source": [
    "# check that all resulting polygons are valid\n",
    "assert sum([not x.is_valid for x in polygons]) == 0\n",
    "\n",
    "# turn the polygons into a geoseries and set the CRS\n",
    "polydf = gpd.GeoSeries(polygons)\n",
    "polydf.crs = 'EPSG:4326'\n",
    "\n",
    "# clip to Bangladesh shape\n",
    "polydf = gpd.clip(polydf, shp)"
   ]
  },
  {
   "cell_type": "code",
   "execution_count": null,
   "metadata": {},
   "outputs": [],
   "source": [
    "# add in the area name to each of the polygons\n",
    "# let's hope that Python doesn't mix all these polygons around so they're all in the same order???\n",
    "polydf.index = df.index"
   ]
  },
  {
   "cell_type": "code",
   "execution_count": null,
   "metadata": {},
   "outputs": [],
   "source": [
    "polydf.to_file(outPath)"
   ]
  },
  {
   "cell_type": "code",
   "execution_count": null,
   "metadata": {},
   "outputs": [],
   "source": [
    "polydf.head()"
   ]
  },
  {
   "cell_type": "code",
   "execution_count": null,
   "metadata": {},
   "outputs": [],
   "source": [
    "polydf.plot()\n",
    "plt.savefig(figPath)"
   ]
  },
  {
   "cell_type": "code",
   "execution_count": null,
   "metadata": {},
   "outputs": [],
   "source": []
  }
 ],
 "metadata": {
  "kernelspec": {
   "display_name": "Python 3",
   "language": "python",
   "name": "python3"
  },
  "language_info": {
   "codemirror_mode": {
    "name": "ipython",
    "version": 3
   },
   "file_extension": ".py",
   "mimetype": "text/x-python",
   "name": "python",
   "nbconvert_exporter": "python",
   "pygments_lexer": "ipython3",
   "version": "3.8.3"
  }
 },
 "nbformat": 4,
 "nbformat_minor": 4
}
